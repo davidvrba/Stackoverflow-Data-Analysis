{
 "cells": [
  {
   "cell_type": "code",
   "execution_count": null,
   "metadata": {},
   "outputs": [],
   "source": [
    "%%configure -f\n",
    "{\n",
    "    \"conf\": {\n",
    "        \"spark.jars.packages\": \"com.databricks:spark-xml_2.12:0.14.0\"\n",
    "    }\n",
    "}"
   ]
  },
  {
   "cell_type": "code",
   "execution_count": null,
   "metadata": {},
   "outputs": [],
   "source": [
    "from pyspark.sql.functions import col"
   ]
  },
  {
   "cell_type": "code",
   "execution_count": null,
   "metadata": {},
   "outputs": [],
   "source": [
    "# path to the posts dataset in raw format (XML)\n",
    "posts_input_path = 's3://...'\n",
    "\n",
    "# output path where we save the posts in parquet format\n",
    "posts_output_path = 's3://...'"
   ]
  },
  {
   "cell_type": "code",
   "execution_count": null,
   "metadata": {},
   "outputs": [],
   "source": [
    "(\n",
    "    spark\n",
    "    .read\n",
    "    .format('xml')\n",
    "    .option('samplingRatio', 0.01)\n",
    "    .option(\"rowTag\", \"row\")\n",
    "    .load(posts_input_path)\n",
    "    .select(\n",
    "        col('_Id').alias('id'),\n",
    "        (col('_CreationDate').cast('timestamp')).alias('creation_date'),\n",
    "        col('_Title').alias('title'),\n",
    "        col('_Body').alias('body'),\n",
    "        col('_commentCount').alias('comments'),\n",
    "        col('_AcceptedAnswerId').alias('accepted_answer_id'),\n",
    "        col('_AnswerCount').alias('answers'),\n",
    "        col('_FavoriteCount').alias('favorite_count'),\n",
    "        col('_OwnerDisplayName').alias('owner_display_name'),\n",
    "        col('_OwnerUserId').alias('user_id'),\n",
    "        col('_ParentId').alias('parent_id'),\n",
    "        col('_PostTypeId').alias('post_type_id'),\n",
    "        col('_Score').alias('score'),\n",
    "        col('_Tags').alias('tags'),\n",
    "        col('_ViewCount').alias('views')\n",
    "    )\n",
    "    .write\n",
    "    .mode('overwrite')\n",
    "    .format('parquet')\n",
    "    .option('path', posts_output_path)\n",
    "    .save()\n",
    ")"
   ]
  }
 ],
 "metadata": {
  "kernelspec": {
   "display_name": "Python 3 (ipykernel)",
   "language": "python",
   "name": "python3"
  },
  "language_info": {
   "codemirror_mode": {
    "name": "ipython",
    "version": 3
   },
   "file_extension": ".py",
   "mimetype": "text/x-python",
   "name": "python",
   "nbconvert_exporter": "python",
   "pygments_lexer": "ipython3",
   "version": "3.7.3"
  }
 },
 "nbformat": 4,
 "nbformat_minor": 4
}
