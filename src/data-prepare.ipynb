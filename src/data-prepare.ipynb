{
 "cells": [
  {
   "cell_type": "code",
   "execution_count": null,
   "metadata": {},
   "outputs": [],
   "source": [
    "from pyspark.sql import SparkSession\n",
    "from pyspark.sql.functions import col, explode\n",
    "\n",
    "import os"
   ]
  },
  {
   "cell_type": "code",
   "execution_count": null,
   "metadata": {},
   "outputs": [],
   "source": [
    "spark = (\n",
    "    SparkSession\n",
    "    .builder\n",
    "    .appName('Data-analysis')\n",
    "    .config(\"spark.jars.packages\", \"com.databricks:spark-xml_2.12:0.14.0\")\n",
    "    .getOrCreate()\n",
    ")\n"
   ]
  },
  {
   "cell_type": "code",
   "execution_count": null,
   "metadata": {},
   "outputs": [],
   "source": [
    "# path to the users dataset in raw format (XML)\n",
    "\n",
    "users_input_path = ''"
   ]
  },
  {
   "cell_type": "code",
   "execution_count": null,
   "metadata": {},
   "outputs": [],
   "source": [
    "users = (\n",
    "    spark\n",
    "    .read\n",
    "    .format('xml')\n",
    "    .option('rowTag', 'users')\n",
    "    .load(users_input_path)\n",
    "    .select(explode(col('row')))\n",
    "    .select(col('col.*'))\n",
    "    .select(\n",
    "        col('_Id').alias('user_id'),\n",
    "        col('_DisplayName').alias('display_name'),\n",
    "        col('_AboutMe').alias('about'),\n",
    "        col('_Location').alias('location'),\n",
    "        col('_DownVotes').alias('downvotes'),\n",
    "        col('_UpVotes').alias('upvotes'),\n",
    "        col('_Reputation').alias('reputation'),\n",
    "        col('_Views').alias('views')\n",
    "    )\n",
    ")"
   ]
  }
 ],
 "metadata": {
  "kernelspec": {
   "display_name": "Python 3",
   "language": "python",
   "name": "python3"
  },
  "language_info": {
   "codemirror_mode": {
    "name": "ipython",
    "version": 3
   },
   "file_extension": ".py",
   "mimetype": "text/x-python",
   "name": "python",
   "nbconvert_exporter": "python",
   "pygments_lexer": "ipython3",
   "version": "3.6.9"
  }
 },
 "nbformat": 4,
 "nbformat_minor": 4
}
