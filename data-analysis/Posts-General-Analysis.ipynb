{
 "cells": [
  {
   "cell_type": "code",
   "execution_count": null,
   "id": "9c103542",
   "metadata": {},
   "outputs": [],
   "source": [
    "from pyspark.sql.functions import (\n",
    "    col, count, desc, explode, ceil, unix_timestamp, window, sum, when, array_contains\n",
    ")"
   ]
  },
  {
   "cell_type": "code",
   "execution_count": null,
   "id": "1298226c",
   "metadata": {},
   "outputs": [],
   "source": [
    "sc.install_pypi_package(\"pandas==1.3.4\")"
   ]
  },
  {
   "cell_type": "code",
   "execution_count": null,
   "id": "5ca27ad1",
   "metadata": {},
   "outputs": [],
   "source": [
    "sc.install_pypi_package(\"matplotlib==3.0.0\")"
   ]
  },
  {
   "cell_type": "code",
   "execution_count": null,
   "id": "6ebe1a6d",
   "metadata": {},
   "outputs": [],
   "source": [
    "import matplotlib.pyplot as plt"
   ]
  },
  {
   "cell_type": "code",
   "execution_count": null,
   "id": "d7dab85e",
   "metadata": {},
   "outputs": [],
   "source": [
    "# path to specific S3 location where the data is sitting\n",
    "\n",
    "posts_path = 's3://...'"
   ]
  },
  {
   "cell_type": "code",
   "execution_count": null,
   "id": "1d26941b",
   "metadata": {},
   "outputs": [],
   "source": [
    "posts_all = spark.read.parquet(posts_path)"
   ]
  },
  {
   "cell_type": "code",
   "execution_count": null,
   "id": "5d86f8a8",
   "metadata": {},
   "outputs": [],
   "source": [
    "posts_all.printSchema()"
   ]
  },
  {
   "cell_type": "code",
   "execution_count": null,
   "id": "8e8712dd",
   "metadata": {},
   "outputs": [],
   "source": [
    "# select only cols we will work with and cache it\n",
    "\n",
    "posts = posts_all.select(\n",
    "    'id',\n",
    "    'post_type_id',\n",
    "    'accepted_answer_id',\n",
    "    'user_id',\n",
    "    'creation_date',\n",
    "    'tags'\n",
    ").cache()"
   ]
  },
  {
   "cell_type": "markdown",
   "id": "31a6ee1f",
   "metadata": {},
   "source": [
    "# Compute the counts"
   ]
  },
  {
   "cell_type": "code",
   "execution_count": null,
   "id": "7464786e",
   "metadata": {},
   "outputs": [],
   "source": [
    "posts.count()"
   ]
  },
  {
   "cell_type": "code",
   "execution_count": null,
   "id": "d846e28b",
   "metadata": {},
   "outputs": [],
   "source": [
    "questions = posts.filter(col('post_type_id') == 1)\n",
    "answeres = posts.filter(col('post_type_id') == 2)"
   ]
  },
  {
   "cell_type": "code",
   "execution_count": null,
   "id": "e59fe20f",
   "metadata": {},
   "outputs": [],
   "source": [
    "questions.count()"
   ]
  },
  {
   "cell_type": "code",
   "execution_count": null,
   "id": "49010a2b",
   "metadata": {},
   "outputs": [],
   "source": [
    "answeres.count()"
   ]
  },
  {
   "cell_type": "code",
   "execution_count": null,
   "id": "fc1d32c9",
   "metadata": {},
   "outputs": [],
   "source": [
    "# questions with accepted answer\n",
    "\n",
    "questions.filter(col('accepted_answer_id').isNotNull())"
   ]
  },
  {
   "cell_type": "code",
   "execution_count": null,
   "id": "180ee08b",
   "metadata": {},
   "outputs": [],
   "source": [
    "# distinct number of users:\n",
    "\n",
    "posts.filter(col('user_id').isNotNull).select('user_id').distinct().count()"
   ]
  },
  {
   "cell_type": "markdown",
   "id": "5e1584cd",
   "metadata": {},
   "source": [
    "# Compute the response time"
   ]
  },
  {
   "cell_type": "code",
   "execution_count": null,
   "id": "ca3eb93b",
   "metadata": {},
   "outputs": [],
   "source": [
    "response_time = (\n",
    "    questions.alias('questions')\n",
    "    .join(answers.alias('answers'), questions['accepted_answer_id'] == answersDF['answer_id'])\n",
    "    .select(\n",
    "        col('questions.id'),\n",
    "        col('questions.creation_date').alias('question_time'),\n",
    "        col('answers.creation_date').alias('answer_time')\n",
    "    )\n",
    "    .withColumn('response_time', unix_timestamp('answer_time') - unix_timestamp('question_time'))\n",
    "    .filter(col('response_time') > 0)\n",
    "    .orderBy('response_time')\n",
    ")"
   ]
  },
  {
   "cell_type": "code",
   "execution_count": null,
   "id": "984202b4",
   "metadata": {},
   "outputs": [],
   "source": [
    "response_time.show(n=5)"
   ]
  },
  {
   "cell_type": "code",
   "execution_count": null,
   "id": "8cc6c8a5",
   "metadata": {},
   "outputs": [],
   "source": [
    "hourly_data = (\n",
    "    response_time\n",
    "    .withColumn('hours', ceil(col('response_time') / 3600))\n",
    "    .groupBy('hours')\n",
    "    .agg(count('*').alias('cnt'))\n",
    "    .orderBy('hours')\n",
    "    .limit(24)\n",
    ").toPandas()"
   ]
  },
  {
   "cell_type": "markdown",
   "id": "839e736a",
   "metadata": {},
   "source": [
    "## See the number of questions answered within each hour"
   ]
  },
  {
   "cell_type": "code",
   "execution_count": null,
   "id": "18229774",
   "metadata": {},
   "outputs": [],
   "source": [
    "hourly_data.plot(\n",
    "    x='hours', y='cnt', figsize=(12, 6), \n",
    "    title='Response time of questions',\n",
    "    legend=False,\n",
    "    kind='bar',\n",
    "    xlabel='Hour',\n",
    "    ylabel='Number of answered questions'\n",
    ")"
   ]
  },
  {
   "cell_type": "code",
   "execution_count": null,
   "id": "71f57075",
   "metadata": {},
   "outputs": [],
   "source": [
    "%matplot plt"
   ]
  },
  {
   "cell_type": "markdown",
   "id": "53b51420",
   "metadata": {},
   "source": [
    "# See the time evolution of the number of questions and answeres"
   ]
  },
  {
   "cell_type": "code",
   "execution_count": null,
   "id": "39e0cedd",
   "metadata": {},
   "outputs": [],
   "source": [
    "posts_grouped = (\n",
    "    posts\n",
    "    .filter(col('user_id').isNotNull())\n",
    "    .groupBy(\n",
    "        window('creation_date', '1 week')\n",
    "    )\n",
    "    .agg(\n",
    "        sum(when(col('post_type_id') == 1, lit(1)).otherwise(lit(0))).alias('questions'),\n",
    "        sum(when(col('post_type_id') == 2, lit(1)).otherwise(lit(0))).alias('answers')\n",
    "    )\n",
    "    .withColumn('date', col('window.start').cast('date'))\n",
    "    .orderBy('date')\n",
    ")"
   ]
  },
  {
   "cell_type": "code",
   "execution_count": null,
   "id": "905c8a91",
   "metadata": {},
   "outputs": [],
   "source": [
    "posts_grouped.plot(\n",
    "    x='date', \n",
    "    figsize=(12, 6), \n",
    "    title='Number of answers per week',\n",
    "    legend=False,\n",
    "    xlabel='Date',\n",
    "    ylabel='Number of answers',\n",
    "    kind='line'\n",
    ")\n",
    "plt.show()"
   ]
  },
  {
   "cell_type": "code",
   "execution_count": null,
   "id": "23788533",
   "metadata": {},
   "outputs": [],
   "source": [
    "%matplot plt"
   ]
  },
  {
   "cell_type": "markdown",
   "id": "29769c98",
   "metadata": {},
   "source": [
    "# Compute number of tags"
   ]
  },
  {
   "cell_type": "code",
   "execution_count": null,
   "id": "5d62e1bd",
   "metadata": {},
   "outputs": [],
   "source": [
    "(\n",
    "    questions\n",
    "    .withColumn('tags', split('tags', '><'))\n",
    "    .selectExpr(\n",
    "        '*',\n",
    "        \"TRANSFORM(tags, value -> regexp_replace(value, '(>|<)', '')) AS tags_arr\"\n",
    "    )\n",
    "    .withColumn('tag', explode('tags_arr'))\n",
    "    .select('tag')\n",
    "    .distinct()\n",
    ").count()"
   ]
  },
  {
   "cell_type": "markdown",
   "id": "f89a5385",
   "metadata": {},
   "source": [
    "## See most popular tags"
   ]
  },
  {
   "cell_type": "code",
   "execution_count": null,
   "id": "2db4dec9",
   "metadata": {},
   "outputs": [],
   "source": [
    "(\n",
    "    questions\n",
    "    .withColumn('tags', split('tags', '><'))\n",
    "    .selectExpr(\n",
    "        '*',\n",
    "        \"TRANSFORM(tags, value -> regexp_replace(value, '(>|<)', '')) AS tags_arr\"\n",
    "    )\n",
    "    .withColumn('tag', explode('tags_arr'))\n",
    "    .groupBy('tag')\n",
    "    .agg(count('*').alias('tag_frequency'))\n",
    "    .orderBy(desc('tag_frequency'))\n",
    ").show(n=10)"
   ]
  },
  {
   "cell_type": "markdown",
   "id": "5506174e",
   "metadata": {},
   "source": [
    "## See the popularity of some tags"
   ]
  },
  {
   "cell_type": "code",
   "execution_count": null,
   "id": "02ea7c0a",
   "metadata": {},
   "outputs": [],
   "source": [
    "spark_tag = (\n",
    "    questions\n",
    "    .withColumn('tags', split('tags', '><'))\n",
    "    .selectExpr(\n",
    "        '*',\n",
    "        \"TRANSFORM(tags, value -> regexp_replace(value, '(>|<)', '')) AS tags_arr\"\n",
    "    )\n",
    "    .select('question_id', 'creation_date', 'tags_arr')\n",
    "    .filter(array_contains(col('tags_arr'), 'spark') | array_contains(col('tags_arr'), 'spark-sql'))\n",
    "    .groupBy(\n",
    "        window('creation_date', \"1 week\")\n",
    "    )\n",
    "    .agg(\n",
    "        count('*').alias('tag_frequency')\n",
    "    )\n",
    "    .withColumn('date', col('window.start').cast('date'))\n",
    "    .orderBy('date')\n",
    ").toPandas()"
   ]
  },
  {
   "cell_type": "code",
   "execution_count": null,
   "id": "f7846b18",
   "metadata": {},
   "outputs": [],
   "source": [
    "spark_tag.plot(\n",
    "    x='date', \n",
    "    figsize=(12, 6), \n",
    "    title='spark/spark-sql tag frequency per week',\n",
    "    legend=False,\n",
    "    xlabel='Date',\n",
    "    ylabel='Number of questions with spark tag',\n",
    "    kind='line'\n",
    ")\n",
    "plt.show()"
   ]
  },
  {
   "cell_type": "code",
   "execution_count": null,
   "id": "0688b693",
   "metadata": {},
   "outputs": [],
   "source": [
    "posts.unpersist()"
   ]
  }
 ],
 "metadata": {
  "kernelspec": {
   "display_name": "test2",
   "language": "python",
   "name": "test2"
  },
  "language_info": {
   "codemirror_mode": {
    "name": "ipython",
    "version": 3
   },
   "file_extension": ".py",
   "mimetype": "text/x-python",
   "name": "python",
   "nbconvert_exporter": "python",
   "pygments_lexer": "ipython3",
   "version": "3.7.1"
  }
 },
 "nbformat": 4,
 "nbformat_minor": 5
}
